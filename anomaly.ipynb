{
 "cells": [
  {
   "cell_type": "code",
   "execution_count": 1,
   "metadata": {},
   "outputs": [],
   "source": [
    "import pandas as pd\n",
    "import numpy as np\n",
    "import matplotlib.pyplot as plt\n",
    "import h5py as hd\n",
    "\n",
    "fn =  '../data/anomaly.h5'\n",
    "N = 10000\n",
    "p = 700"
   ]
  },
  {
   "cell_type": "code",
   "execution_count": 2,
   "metadata": {},
   "outputs": [
    {
     "name": "stdout",
     "output_type": "stream",
     "text": [
      "(10000, 2101)\n",
      "Memory in GB: 0.15661120414733887\n"
     ]
    }
   ],
   "source": [
    "df = pd.read_hdf(fn,stop=N)\n",
    "print(df.shape)\n",
    "print(\"Memory in GB:\",sum(df.memory_usage(deep=True)) / (1024**3))"
   ]
  },
  {
   "cell_type": "code",
   "execution_count": 3,
   "metadata": {},
   "outputs": [],
   "source": [
    "y = df.iloc[:, -1].values\n",
    "X = df.iloc[:,:-1].values\n",
    "X = np.reshape(X, (N, p, 3))\n",
    "Bs, Ss = [], []\n",
    "for arr,events in [(Bs, X[y==0]), (Ss, X[y==1])]:\n",
    "    for i,x in enumerate(events):\n",
    "        # ignore padded particles and removed particle id information\n",
    "        x = x[x[:,0] != 0]\n",
    "\n",
    "        # center jet according to pt-centroid\n",
    "        yphi_avg = np.average(x[:,1:3], weights=x[:,0], axis=0)\n",
    "        x[:,1:3] -= yphi_avg\n",
    "\n",
    "        # mask out any particles farther than R=0.4 away from center (rare)\n",
    "        # add to list\n",
    "        x = sorted(x, key=lambda a: a[0], reverse=True)\n",
    "        x = np.array(x[:100])\n",
    "        arr.append(x)\n"
   ]
  },
  {
   "cell_type": "code",
   "execution_count": 4,
   "metadata": {},
   "outputs": [
    {
     "name": "stderr",
     "output_type": "stream",
     "text": [
      "Using TensorFlow backend.\n"
     ]
    },
    {
     "data": {
      "image/png": "[encoded data removed]",
      "text/plain": [
       "<Figure size 432x288 with 1 Axes>"
      ]
     },
     "metadata": {
      "needs_background": "light"
     },
     "output_type": "display_data"
    }
   ],
   "source": [
    "# choose interesting events\n",
    "from energyflow.emd import emd, emds\n",
    "import matplotlib.pyplot as plt\n",
    "\n",
    "ev0, ev1 = Ss[0], Ss[15]\n",
    "\n",
    "# calculate the EMD and the optimal transport flow\n",
    "R = 5\n",
    "emdval, B = emd(ev0, ev1, R=R, return_flow=True)\n",
    "\n",
    "# plot the two events\n",
    "colors = ['red', 'blue']\n",
    "labels = ['Gluon Jet 1', 'Gluon Jet 2']\n",
    "for i,ev in enumerate([ev0, ev1]):\n",
    "    pts, ys, phis = ev[:,0], ev[:,1], ev[:,2]\n",
    "    plt.scatter(ys, phis, marker='o', s=2*pts, color=colors[i], lw=0, zorder=10, label=labels[i])\n",
    "    \n",
    "# plot the flow\n",
    "mx = B.max()\n",
    "xs, xt = ev0[:,1:3], ev1[:,1:3]\n",
    "for i in range(xs.shape[0]):\n",
    "    for j in range(xt.shape[0]):\n",
    "        if B[i, j] > 0:\n",
    "            plt.plot([xs[i, 0], xt[j, 0]], [xs[i, 1], xt[j, 1]],\n",
    "                     alpha=B[i, j]/mx, lw=1.25, color='black')\n",
    "\n",
    "# plot settings\n",
    "plt.xlim(-R, R); plt.ylim(-R, R)\n",
    "plt.xlabel('Rapidity'); plt.ylabel('Azimuthal Angle')\n",
    "plt.xticks(np.linspace(-R, R, 5)); plt.yticks(np.linspace(-R, R, 5))\n",
    "\n",
    "plt.text(0.6, 0.03, 'EMD: {:.1f} GeV'.format(emdval), fontsize=10, transform=plt.gca().transAxes)\n",
    "plt.legend(loc=(0.1, 1.0), frameon=False, ncol=2, handletextpad=0)\n",
    "\n",
    "plt.show()"
   ]
  },
  {
   "cell_type": "code",
   "execution_count": 5,
   "metadata": {},
   "outputs": [
    {
     "name": "stdout",
     "output_type": "stream",
     "text": [
      "Computed 0 EMDs, 0.00% done in 0.00s\n"
     ]
    },
    {
     "ename": "KeyboardInterrupt",
     "evalue": "",
     "output_type": "error",
     "traceback": [
      "\u001b[0;31m---------------------------------------------------------------------------\u001b[0m",
      "\u001b[0;31mKeyboardInterrupt\u001b[0m                         Traceback (most recent call last)",
      "\u001b[0;32m<ipython-input-5-cf4aa259f0fd>\u001b[0m in \u001b[0;36m<module>\u001b[0;34m\u001b[0m\n\u001b[1;32m      1\u001b[0m \u001b[0mdata\u001b[0m \u001b[0;34m=\u001b[0m \u001b[0mBs\u001b[0m \u001b[0;34m+\u001b[0m \u001b[0mSs\u001b[0m\u001b[0;34m\u001b[0m\u001b[0m\n\u001b[0;32m----> 2\u001b[0;31m \u001b[0memds\u001b[0m \u001b[0;34m=\u001b[0m \u001b[0memds\u001b[0m\u001b[0;34m(\u001b[0m\u001b[0mdata\u001b[0m\u001b[0;34m,\u001b[0m \u001b[0mR\u001b[0m\u001b[0;34m=\u001b[0m\u001b[0mR\u001b[0m\u001b[0;34m,\u001b[0m \u001b[0mnorm\u001b[0m\u001b[0;34m=\u001b[0m\u001b[0;32mTrue\u001b[0m\u001b[0;34m,\u001b[0m \u001b[0mverbose\u001b[0m\u001b[0;34m=\u001b[0m\u001b[0;36m1\u001b[0m\u001b[0;34m,\u001b[0m \u001b[0mn_jobs\u001b[0m\u001b[0;34m=\u001b[0m\u001b[0;36m1\u001b[0m\u001b[0;34m,\u001b[0m \u001b[0mprint_every\u001b[0m\u001b[0;34m=\u001b[0m\u001b[0;36m10000\u001b[0m\u001b[0;34m)\u001b[0m\u001b[0;34m\u001b[0m\u001b[0m\n\u001b[0m",
      "\u001b[0;32m/usr/local/lib/python3.7/site-packages/energyflow/emd.py\u001b[0m in \u001b[0;36memds\u001b[0;34m(X0, X1, R, norm, gdim, n_iter_max, periodic_phi, phi_col, n_jobs, verbose, print_every)\u001b[0m\n\u001b[1;32m    395\u001b[0m         \u001b[0;32melif\u001b[0m \u001b[0mn_jobs\u001b[0m \u001b[0;34m==\u001b[0m \u001b[0;36m1\u001b[0m\u001b[0;34m:\u001b[0m\u001b[0;34m\u001b[0m\u001b[0m\n\u001b[1;32m    396\u001b[0m             \u001b[0;32mfor\u001b[0m \u001b[0mk\u001b[0m\u001b[0;34m,\u001b[0m\u001b[0;34m(\u001b[0m\u001b[0mi\u001b[0m\u001b[0;34m,\u001b[0m\u001b[0mj\u001b[0m\u001b[0;34m)\u001b[0m \u001b[0;32min\u001b[0m \u001b[0menumerate\u001b[0m\u001b[0;34m(\u001b[0m\u001b[0mpairs\u001b[0m\u001b[0;34m)\u001b[0m\u001b[0;34m:\u001b[0m\u001b[0;34m\u001b[0m\u001b[0m\n\u001b[0;32m--> 397\u001b[0;31m                 \u001b[0memds\u001b[0m\u001b[0;34m[\u001b[0m\u001b[0mi\u001b[0m\u001b[0;34m,\u001b[0m \u001b[0mj\u001b[0m\u001b[0;34m]\u001b[0m \u001b[0;34m=\u001b[0m \u001b[0m_emd\u001b[0m\u001b[0;34m(\u001b[0m\u001b[0mX0\u001b[0m\u001b[0;34m[\u001b[0m\u001b[0mi\u001b[0m\u001b[0;34m]\u001b[0m\u001b[0;34m,\u001b[0m \u001b[0mX1\u001b[0m\u001b[0;34m[\u001b[0m\u001b[0mj\u001b[0m\u001b[0;34m]\u001b[0m\u001b[0;34m,\u001b[0m \u001b[0mR\u001b[0m\u001b[0;34m,\u001b[0m \u001b[0mnorm\u001b[0m\u001b[0;34m,\u001b[0m \u001b[0mn_iter_max\u001b[0m\u001b[0;34m,\u001b[0m \u001b[0mperiodic_phi\u001b[0m\u001b[0;34m,\u001b[0m \u001b[0mphi_col_m1\u001b[0m\u001b[0;34m)\u001b[0m\u001b[0;34m\u001b[0m\u001b[0m\n\u001b[0m\u001b[1;32m    398\u001b[0m                 \u001b[0;32mif\u001b[0m \u001b[0mverbose\u001b[0m \u001b[0;34m>=\u001b[0m \u001b[0;36m1\u001b[0m \u001b[0;32mand\u001b[0m \u001b[0;34m(\u001b[0m\u001b[0mk\u001b[0m \u001b[0;34m%\u001b[0m \u001b[0mprint_every\u001b[0m\u001b[0;34m)\u001b[0m \u001b[0;34m==\u001b[0m \u001b[0;36m0\u001b[0m\u001b[0;34m:\u001b[0m\u001b[0;34m\u001b[0m\u001b[0m\n\u001b[1;32m    399\u001b[0m                     \u001b[0margs\u001b[0m \u001b[0;34m=\u001b[0m \u001b[0;34m(\u001b[0m\u001b[0mk\u001b[0m\u001b[0;34m,\u001b[0m \u001b[0mk\u001b[0m\u001b[0;34m/\u001b[0m\u001b[0mnpairs\u001b[0m\u001b[0;34m*\u001b[0m\u001b[0;36m100\u001b[0m\u001b[0;34m,\u001b[0m \u001b[0mtime\u001b[0m\u001b[0;34m.\u001b[0m\u001b[0mtime\u001b[0m\u001b[0;34m(\u001b[0m\u001b[0;34m)\u001b[0m \u001b[0;34m-\u001b[0m \u001b[0mstart\u001b[0m\u001b[0;34m)\u001b[0m\u001b[0;34m\u001b[0m\u001b[0m\n",
      "\u001b[0;32m/usr/local/lib/python3.7/site-packages/energyflow/emd.py\u001b[0m in \u001b[0;36m_emd\u001b[0;34m(ev0, ev1, R, norm, n_iter_max, periodic_phi, phi_col)\u001b[0m\n\u001b[1;32m    251\u001b[0m \u001b[0;34m\u001b[0m\u001b[0m\n\u001b[1;32m    252\u001b[0m         \u001b[0;31m# compute the emd with POT\u001b[0m\u001b[0;34m\u001b[0m\u001b[0;34m\u001b[0m\u001b[0m\n\u001b[0;32m--> 253\u001b[0;31m         \u001b[0m_\u001b[0m\u001b[0;34m,\u001b[0m \u001b[0mcost\u001b[0m\u001b[0;34m,\u001b[0m \u001b[0m_\u001b[0m\u001b[0;34m,\u001b[0m \u001b[0m_\u001b[0m\u001b[0;34m,\u001b[0m \u001b[0mresult_code\u001b[0m \u001b[0;34m=\u001b[0m \u001b[0memd_c\u001b[0m\u001b[0;34m(\u001b[0m\u001b[0mpTs0\u001b[0m\u001b[0;34m/\u001b[0m\u001b[0mrescale\u001b[0m\u001b[0;34m,\u001b[0m \u001b[0mpTs1\u001b[0m\u001b[0;34m/\u001b[0m\u001b[0mrescale\u001b[0m\u001b[0;34m,\u001b[0m \u001b[0mthetas\u001b[0m\u001b[0;34m,\u001b[0m \u001b[0mn_iter_max\u001b[0m\u001b[0;34m)\u001b[0m\u001b[0;34m\u001b[0m\u001b[0m\n\u001b[0m\u001b[1;32m    254\u001b[0m         \u001b[0mcheck_result\u001b[0m\u001b[0;34m(\u001b[0m\u001b[0mresult_code\u001b[0m\u001b[0;34m)\u001b[0m\u001b[0;34m\u001b[0m\u001b[0m\n\u001b[1;32m    255\u001b[0m \u001b[0;34m\u001b[0m\u001b[0m\n",
      "\u001b[0;31mKeyboardInterrupt\u001b[0m: "
     ]
    }
   ],
   "source": [
    "data = Bs + Ss\n",
    "emds = emds(data, R=R, norm=True, verbose=1, n_jobs=1, print_every=10000)"
   ]
  },
  {
   "cell_type": "code",
   "execution_count": 11,
   "metadata": {},
   "outputs": [
    {
     "name": "stdout",
     "output_type": "stream",
     "text": [
      "(1000, 300) (1000, 16)\n"
     ]
    }
   ],
   "source": [
    "import networkx as nx\n",
    "import pickle\n",
    "import numpy as np\n",
    "\n",
    "def get_training_data():\n",
    "\t# import the knn graph and the partitions\n",
    "\tG = nx.read_gpickle('pickles/knn_graph.gpickle')\n",
    "\tpartitions = nx.read_gpickle('pickles/graph_partitions.pickle')\n",
    "\tN = len(G.nodes())\n",
    "\tM = len(partitions)\n",
    "\n",
    "\t# load the training data\n",
    "\tpoints = pickle.load(open('pickles/points.pickle', 'rb'))\n",
    "\tassert len(points) == N\n",
    "\n",
    "\t# flatten each training point's feature matrix into a single feature vector\n",
    "\t# note that not every collision event may have the same number of particles\n",
    "\tnum_particles = 0\n",
    "\tfor point in points:\n",
    "\t\tnum_particles = max(num_particles, point.shape[0])\n",
    "\tnum_readings = points[0].shape[1] # every particle should have the same number (3) of readigns\n",
    "\n",
    "\tX = []\n",
    "\tfor point in points:\n",
    "\t\tfeature = np.copy(point)\n",
    "\t\tfeature.resize((num_particles*num_readings))\n",
    "\t\tX.append(feature)\n",
    "\tX = np.array(X)\n",
    "\n",
    "\t# create labels for each node\n",
    "\tlabels = {}\n",
    "\tfor i, part in enumerate(partitions):\n",
    "\t\tfor node in part:\n",
    "\t\t\tlabels[node] = i\n",
    "\n",
    "\t# turn the labels into soft labels\n",
    "\t# for this, the label becomes the empirical distribution of the part that each node's S nearest neighbors belong to\n",
    "\tnns = nx.read_gpickle('pickles/nearest_neighbors.pickle')\n",
    "\tY = []\n",
    "\tfor i in range(N):\n",
    "\t\tdistribution = np.zeros(M)\n",
    "\t\tfor n in nns[i]:\n",
    "\t\t\tdistribution[labels[n]] += 1\n",
    "\t\tdistribution = np.divide(distribution, np.sum(distribution))\n",
    "\t\tY.append(distribution)\n",
    "\tY = np.array(Y)\n",
    "\n",
    "\treturn X, Y\n",
    "\n",
    "X, y = get_training_data()\n",
    "print(X.shape, y.shape)"
   ]
  },
  {
   "cell_type": "code",
   "execution_count": 24,
   "metadata": {},
   "outputs": [
    {
     "data": {
      "application/vnd.jupyter.widget-view+json": {
       "model_id": "8bb22b43e6de491ba522437baa33342b",
       "version_major": 2,
       "version_minor": 0
      },
      "text/plain": [
       "HBox(children=(IntProgress(value=0, max=6), HTML(value='')))"
      ]
     },
     "metadata": {},
     "output_type": "display_data"
    },
    {
     "name": "stdout",
     "output_type": "stream",
     "text": [
      "{1: 0.9837732315063477, 5: 5.041940927505493, 10: 10.586241006851196, 50: 58.39814615249634, 100: 95.3406252861023, 250: 229.65502071380615}\n",
      "{1: 0.0, 5: 0.0, 10: 0.0, 50: 0.0, 100: 0.0, 250: 0.0}\n"
     ]
    }
   ],
   "source": [
    "from sklearn.neighbors import LSHForest\n",
    "from sklearn.neighbors import NearestNeighbors\n",
    "from sklearn.neighbors import DistanceMetric\n",
    "from tqdm import tqdm_notebook as tqdm\n",
    "from energyflow.emd import emd, emds\n",
    "\n",
    "import time\n",
    "\n",
    "avg_times_exact = {}\n",
    "std_times_exact = {}\n",
    "\n",
    "n_samples_values = [750]\n",
    "D = pickle.load(open('pickles/distances.pickle', 'rb'))\n",
    "p = pickle.load(open('pickles/points.pickle', 'rb'))\n",
    "\n",
    "def dfunc(x, y):\n",
    "    x, y = x.reshape(100, 3), y.reshape(100, 3)\n",
    "    return emd(x, y)\n",
    "    \n",
    "metric = DistanceMetric.get_metric('pyfunc', func=dfunc)\n",
    "nb = NearestNeighbors(metric=dfunc, algorithm='ball_tree')\n",
    "nb.fit(X[:750])\n",
    "k_values = [1]\n",
    "q_values = [1, 5, 10, 50, 100, 250]\n",
    "for k in k_values:\n",
    "    for q in tqdm(q_values):\n",
    "        times = []\n",
    "        for i in range(1):\n",
    "            start = time.time()\n",
    "            nb.kneighbors(X[1000-q:], n_neighbors=k)\n",
    "            end = time.time()\n",
    "            times.append(end-start)\n",
    "        avg_times_exact[q] = np.mean(times)\n",
    "        std_times_exact[q] = np.std(times)\n",
    "        \n",
    "print(avg_times_exact)\n",
    "print(std_times_exact)"
   ]
  },
  {
   "cell_type": "code",
   "execution_count": null,
   "metadata": {},
   "outputs": [],
   "source": []
  },
  {
   "cell_type": "code",
   "execution_count": null,
   "metadata": {},
   "outputs": [],
   "source": []
  }
 ],
 "metadata": {
  "kernelspec": {
   "display_name": "Python 3",
   "language": "python",
   "name": "python3"
  },
  "language_info": {
   "codemirror_mode": {
    "name": "ipython",
    "version": 3
   },
   "file_extension": ".py",
   "mimetype": "text/x-python",
   "name": "python",
   "nbconvert_exporter": "python",
   "pygments_lexer": "ipython3",
   "version": "3.7.0"
  }
 },
 "nbformat": 4,
 "nbformat_minor": 2
}
